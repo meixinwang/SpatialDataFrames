{
 "cells": [
  {
   "cell_type": "markdown",
   "id": "9f251e30",
   "metadata": {},
   "source": [
    "# Spatial Dataframes 1: Creating them using GeoPandas\n",
    "ENV 859 - Fall 2022  \n",
    "© John Fay, Duke University"
   ]
  },
  {
   "cell_type": "markdown",
   "id": "aa204d7e",
   "metadata": {},
   "source": [
    "### What is a spatial dataframe\n",
    "A **spatial dataframe** (aka a **geodataframe** or **spatially enabled dataframe**) is much like a typical Pandas dataframe except that it accomodates a new datatype:  ***geometries*** . Geometries, as you might guess represent geometric features: points, lines, and polygons -- each of which is defined by a one or series of coordinate pairs. These spatial dataframes are also assigned a **coordinate reference system (crs)** which links these coordinates to specific places on the Earth and allows us to do geospatial analysis. In other words, these spatial dataframes are quite the same as our familiar GIS feature classes!"
   ]
  },
  {
   "cell_type": "markdown",
   "id": "4e024546",
   "metadata": {},
   "source": [
    "### Libraries for working with spatial dataframes\n",
    "To work with spatial dataframes, we need one of two Python libraries, each of which has its own version of the spatial dataframe and its own set of functions and classes. First is **geopandas**, which has been around for a while, and then there's the newcomer, the **ArcGIS API for Python** (which really needs a better name). In this notebook we explore the former, **geopandas**, focusing in on how we create the GeoDataframes from existing data in various formats. The ArcGIS API for Python will be examined in a different notebook."
   ]
  },
  {
   "cell_type": "markdown",
   "id": "dd2c008f",
   "metadata": {},
   "source": [
    "## Lesson 1 - Constructing Spatial Dataframes\n",
    "Before seeing what we can do with spatial dataframes, we need to learn how to construct them in our coding environment. So, our first lesson examines just that. Spatial data can be stored in various formats, and here we look at the methods for importing data stored in the more common formats into a GeoPandas spatial dataframe -- often called a ***geodataframe***. \n",
    "\n",
    "The source formats we examine include:\n",
    "1. [A delimited text file (e.g. CSV) containing coordinate columns and a know coordinate reference system](#1.1---Creating-spatial-dataframes-from-CSV-files-using-GeoPandas)\n",
    "2. [An existing feature class in the form of a shapefile or within a geodatabase](#1.2:-Creating-spatial-dataframes-from-existing-feature-classes)\n",
    "3. [Other formats: GeoJSON files, KML, and [kind of] GeoDatabases](#1.3---Creating-spatial-dataframes-from-other-file-formats)"
   ]
  },
  {
   "cell_type": "markdown",
   "id": "ba0fcbbd",
   "metadata": {},
   "source": [
    "### 1.1 - Creating spatial dataframes from CSV files using GeoPandas\n",
    "In this example, we examine how to create a point spatial dataframe from a CSV file containing latitude and longitude coordinates. The data we'll use in this exercise is electric vehicle charging locations in North Carolina obtained from the Alternative Fuels Data Center ([link](https://afdc.energy.gov/data_download)). These data, stored in the `NC_Charging_Stations.csv` file in the `data` folder, have been downloaded and preprocesed to subset records falling within North Carolina, and to remove extraneous columns.\n",
    "\n",
    "The process of importing a CSV file into a GeoPandas geodataframe consists of first importing the data into a Pandas dataframe and then creating a **GeoSeries** - or column of geometry objects - from the coordinate columns. Then we construct the geodataframe using the GeoPandas `GeoDataFrame()` function supplying the original dataframe, the geoseries object, and the coordinate reference system or `crs`. "
   ]
  },
  {
   "cell_type": "markdown",
   "id": "b476c23e",
   "metadata": {},
   "source": [
    "#### Step 1. Importing the data into a Pandas dataframe"
   ]
  },
  {
   "cell_type": "code",
   "execution_count": 1,
   "id": "9cda0c39",
   "metadata": {},
   "outputs": [],
   "source": [
    "#Import libraries: Pandas (as \"pd\") and geopandas (as \"gpd\")\n",
    "import pandas as pd\n",
    "import geopandas as gpd"
   ]
  },
  {
   "cell_type": "code",
   "execution_count": 2,
   "id": "4c4ab5fa",
   "metadata": {},
   "outputs": [],
   "source": [
    "#Read the EV Charging station data into a Pandas dataframe\n",
    "df = pd.read_csv('../data/NC_Charging_Stations.csv')"
   ]
  },
  {
   "cell_type": "code",
   "execution_count": 3,
   "id": "487941ed",
   "metadata": {},
   "outputs": [
    {
     "data": {
      "text/html": [
       "<div>\n",
       "<style scoped>\n",
       "    .dataframe tbody tr th:only-of-type {\n",
       "        vertical-align: middle;\n",
       "    }\n",
       "\n",
       "    .dataframe tbody tr th {\n",
       "        vertical-align: top;\n",
       "    }\n",
       "\n",
       "    .dataframe thead th {\n",
       "        text-align: right;\n",
       "    }\n",
       "</style>\n",
       "<table border=\"1\" class=\"dataframe\">\n",
       "  <thead>\n",
       "    <tr style=\"text-align: right;\">\n",
       "      <th></th>\n",
       "      <th>ID</th>\n",
       "      <th>Fuel Type Code</th>\n",
       "      <th>Station Name</th>\n",
       "      <th>City</th>\n",
       "      <th>State</th>\n",
       "      <th>ZIP</th>\n",
       "      <th>Status Code</th>\n",
       "      <th>Latitude</th>\n",
       "      <th>Longitude</th>\n",
       "      <th>Facility Type</th>\n",
       "    </tr>\n",
       "  </thead>\n",
       "  <tbody>\n",
       "    <tr>\n",
       "      <th>0</th>\n",
       "      <td>39016</td>\n",
       "      <td>ELEC</td>\n",
       "      <td>City of Raleigh - Municipal Building</td>\n",
       "      <td>Raleigh</td>\n",
       "      <td>NC</td>\n",
       "      <td>27601</td>\n",
       "      <td>E</td>\n",
       "      <td>35.778416</td>\n",
       "      <td>-78.643470</td>\n",
       "      <td>STREET_PARKING</td>\n",
       "    </tr>\n",
       "    <tr>\n",
       "      <th>1</th>\n",
       "      <td>39017</td>\n",
       "      <td>ELEC</td>\n",
       "      <td>City of Raleigh - Downtown</td>\n",
       "      <td>Raleigh</td>\n",
       "      <td>NC</td>\n",
       "      <td>27601</td>\n",
       "      <td>E</td>\n",
       "      <td>35.774350</td>\n",
       "      <td>-78.642287</td>\n",
       "      <td>STREET_PARKING</td>\n",
       "    </tr>\n",
       "    <tr>\n",
       "      <th>2</th>\n",
       "      <td>40066</td>\n",
       "      <td>ELEC</td>\n",
       "      <td>Modern Nissan - Concord</td>\n",
       "      <td>Concord</td>\n",
       "      <td>NC</td>\n",
       "      <td>28027</td>\n",
       "      <td>E</td>\n",
       "      <td>35.392063</td>\n",
       "      <td>-80.622777</td>\n",
       "      <td>CAR_DEALER</td>\n",
       "    </tr>\n",
       "    <tr>\n",
       "      <th>3</th>\n",
       "      <td>40067</td>\n",
       "      <td>ELEC</td>\n",
       "      <td>Fred Anderson Nissan</td>\n",
       "      <td>Fayetteville</td>\n",
       "      <td>NC</td>\n",
       "      <td>28304</td>\n",
       "      <td>E</td>\n",
       "      <td>35.042419</td>\n",
       "      <td>-78.956747</td>\n",
       "      <td>CAR_DEALER</td>\n",
       "    </tr>\n",
       "    <tr>\n",
       "      <th>4</th>\n",
       "      <td>40068</td>\n",
       "      <td>ELEC</td>\n",
       "      <td>Vann Yorks High Point Nissan</td>\n",
       "      <td>High Point</td>\n",
       "      <td>NC</td>\n",
       "      <td>27260</td>\n",
       "      <td>E</td>\n",
       "      <td>35.937981</td>\n",
       "      <td>-79.996012</td>\n",
       "      <td>CAR_DEALER</td>\n",
       "    </tr>\n",
       "  </tbody>\n",
       "</table>\n",
       "</div>"
      ],
      "text/plain": [
       "      ID Fuel Type Code                          Station Name          City  \\\n",
       "0  39016           ELEC  City of Raleigh - Municipal Building       Raleigh   \n",
       "1  39017           ELEC            City of Raleigh - Downtown       Raleigh   \n",
       "2  40066           ELEC               Modern Nissan - Concord       Concord   \n",
       "3  40067           ELEC                  Fred Anderson Nissan  Fayetteville   \n",
       "4  40068           ELEC          Vann Yorks High Point Nissan    High Point   \n",
       "\n",
       "  State    ZIP Status Code   Latitude  Longitude   Facility Type  \n",
       "0    NC  27601           E  35.778416 -78.643470  STREET_PARKING  \n",
       "1    NC  27601           E  35.774350 -78.642287  STREET_PARKING  \n",
       "2    NC  28027           E  35.392063 -80.622777      CAR_DEALER  \n",
       "3    NC  28304           E  35.042419 -78.956747      CAR_DEALER  \n",
       "4    NC  27260           E  35.937981 -79.996012      CAR_DEALER  "
      ]
     },
     "execution_count": 3,
     "metadata": {},
     "output_type": "execute_result"
    }
   ],
   "source": [
    "#Examine the first few rows, noting the data include \"latitude\"  \"longitude\" columns\n",
    "df.head(5)"
   ]
  },
  {
   "cell_type": "markdown",
   "id": "f28d70a4",
   "metadata": {},
   "source": [
    "#### Step 2. Creating a column of geometric objects (i.e., a GeoSeries) \n",
    "To create a geoseries, we use the geopandas `points_from_xy()` function."
   ]
  },
  {
   "cell_type": "code",
   "execution_count": 4,
   "id": "34fffca1",
   "metadata": {},
   "outputs": [],
   "source": [
    "#Show info on the command\n",
    "gpd.points_from_xy?"
   ]
  },
  {
   "cell_type": "markdown",
   "id": "1b70cb31",
   "metadata": {},
   "source": [
    "The essential inputs are a series of x coordinates (our `Longitude` column), a series of y coordinates (our `Latitude` column)."
   ]
  },
  {
   "cell_type": "code",
   "execution_count": 7,
   "id": "cfdea036",
   "metadata": {},
   "outputs": [],
   "source": [
    "#Create a geoseries object from the coordinate column\n",
    "geometries = gpd.points_from_xy(df.Longitude, df.Latitude)"
   ]
  },
  {
   "cell_type": "markdown",
   "id": "629fbc50",
   "metadata": {},
   "source": [
    "#### Step 3. Constructing the Geodataframe from the data, the geoseries, and the crs\n",
    "Next, we use the `GeoDataFrame()` function to construct our geodataframe, attaching our geoseries as its \"shape\" field. We also, however, need to define the geodataframes's coordinate reference system, which is done by specifing the *well known ID* or **WKID** (really?) of the coordinate system to which our data is referenced.  \n",
    "\n",
    ">#### ► What is an WKID code?\n",
    ">All \"official\" coordinate systems have a unique ID, often defined by the \"European Petroleum Survey Group\". These ids, often refered to as  \"***WKIDs***\" (short for \"Well Known IDs\"), or sometimes as \"***EPSG codes***\", can be found by looking up the name of the coordinate system on either https://spatialreference.org or https://epsg.io/. For example, the WKID for WGS 84 (to which is what our data is referenced) is [4326](https://spatialreference.org/ref/epsg/wgs-84/)."
   ]
  },
  {
   "cell_type": "code",
   "execution_count": 8,
   "id": "4ec366d9",
   "metadata": {},
   "outputs": [],
   "source": [
    "#View the GeoDataframe() command syntax\n",
    "gpd.GeoDataFrame?"
   ]
  },
  {
   "cell_type": "code",
   "execution_count": 9,
   "id": "5c70e051",
   "metadata": {},
   "outputs": [
    {
     "data": {
      "text/plain": [
       "geopandas.geodataframe.GeoDataFrame"
      ]
     },
     "execution_count": 9,
     "metadata": {},
     "output_type": "execute_result"
    }
   ],
   "source": [
    "#Create a geodataframe from our data\n",
    "gdf_csv = gpd.GeoDataFrame(data = df, geometry = geometries, crs = 'EPSG:4326')\n",
    "#Confirm the type of the object we just created\n",
    "type(gdf_csv)"
   ]
  },
  {
   "cell_type": "markdown",
   "id": "b8aa0230",
   "metadata": {},
   "source": [
    "#### Step 4. Exploring our geodataframe\n",
    "Now, let's explore our geodataframe using many commands familiar with our exploration of Pandas dataframes. These include:\n",
    "* `head()` to show the first few records of the dataframe (note the last column)\n",
    "* `info()` to reveal the structure of the dataframe (note the data type of the last column)\n",
    "* `crs` to reveal the coordinate reference system the dataset uses\n",
    "* `plot()` to plot the data"
   ]
  },
  {
   "cell_type": "code",
   "execution_count": 10,
   "id": "3f374893",
   "metadata": {},
   "outputs": [
    {
     "data": {
      "text/html": [
       "<div>\n",
       "<style scoped>\n",
       "    .dataframe tbody tr th:only-of-type {\n",
       "        vertical-align: middle;\n",
       "    }\n",
       "\n",
       "    .dataframe tbody tr th {\n",
       "        vertical-align: top;\n",
       "    }\n",
       "\n",
       "    .dataframe thead th {\n",
       "        text-align: right;\n",
       "    }\n",
       "</style>\n",
       "<table border=\"1\" class=\"dataframe\">\n",
       "  <thead>\n",
       "    <tr style=\"text-align: right;\">\n",
       "      <th></th>\n",
       "      <th>ID</th>\n",
       "      <th>Fuel Type Code</th>\n",
       "      <th>Station Name</th>\n",
       "      <th>City</th>\n",
       "      <th>State</th>\n",
       "      <th>ZIP</th>\n",
       "      <th>Status Code</th>\n",
       "      <th>Latitude</th>\n",
       "      <th>Longitude</th>\n",
       "      <th>Facility Type</th>\n",
       "      <th>geometry</th>\n",
       "    </tr>\n",
       "  </thead>\n",
       "  <tbody>\n",
       "    <tr>\n",
       "      <th>0</th>\n",
       "      <td>39016</td>\n",
       "      <td>ELEC</td>\n",
       "      <td>City of Raleigh - Municipal Building</td>\n",
       "      <td>Raleigh</td>\n",
       "      <td>NC</td>\n",
       "      <td>27601</td>\n",
       "      <td>E</td>\n",
       "      <td>35.778416</td>\n",
       "      <td>-78.643470</td>\n",
       "      <td>STREET_PARKING</td>\n",
       "      <td>POINT (-78.64347 35.77842)</td>\n",
       "    </tr>\n",
       "    <tr>\n",
       "      <th>1</th>\n",
       "      <td>39017</td>\n",
       "      <td>ELEC</td>\n",
       "      <td>City of Raleigh - Downtown</td>\n",
       "      <td>Raleigh</td>\n",
       "      <td>NC</td>\n",
       "      <td>27601</td>\n",
       "      <td>E</td>\n",
       "      <td>35.774350</td>\n",
       "      <td>-78.642287</td>\n",
       "      <td>STREET_PARKING</td>\n",
       "      <td>POINT (-78.64229 35.77435)</td>\n",
       "    </tr>\n",
       "    <tr>\n",
       "      <th>2</th>\n",
       "      <td>40066</td>\n",
       "      <td>ELEC</td>\n",
       "      <td>Modern Nissan - Concord</td>\n",
       "      <td>Concord</td>\n",
       "      <td>NC</td>\n",
       "      <td>28027</td>\n",
       "      <td>E</td>\n",
       "      <td>35.392063</td>\n",
       "      <td>-80.622777</td>\n",
       "      <td>CAR_DEALER</td>\n",
       "      <td>POINT (-80.62278 35.39206)</td>\n",
       "    </tr>\n",
       "    <tr>\n",
       "      <th>3</th>\n",
       "      <td>40067</td>\n",
       "      <td>ELEC</td>\n",
       "      <td>Fred Anderson Nissan</td>\n",
       "      <td>Fayetteville</td>\n",
       "      <td>NC</td>\n",
       "      <td>28304</td>\n",
       "      <td>E</td>\n",
       "      <td>35.042419</td>\n",
       "      <td>-78.956747</td>\n",
       "      <td>CAR_DEALER</td>\n",
       "      <td>POINT (-78.95675 35.04242)</td>\n",
       "    </tr>\n",
       "    <tr>\n",
       "      <th>4</th>\n",
       "      <td>40068</td>\n",
       "      <td>ELEC</td>\n",
       "      <td>Vann Yorks High Point Nissan</td>\n",
       "      <td>High Point</td>\n",
       "      <td>NC</td>\n",
       "      <td>27260</td>\n",
       "      <td>E</td>\n",
       "      <td>35.937981</td>\n",
       "      <td>-79.996012</td>\n",
       "      <td>CAR_DEALER</td>\n",
       "      <td>POINT (-79.99601 35.93798)</td>\n",
       "    </tr>\n",
       "  </tbody>\n",
       "</table>\n",
       "</div>"
      ],
      "text/plain": [
       "      ID Fuel Type Code                          Station Name          City  \\\n",
       "0  39016           ELEC  City of Raleigh - Municipal Building       Raleigh   \n",
       "1  39017           ELEC            City of Raleigh - Downtown       Raleigh   \n",
       "2  40066           ELEC               Modern Nissan - Concord       Concord   \n",
       "3  40067           ELEC                  Fred Anderson Nissan  Fayetteville   \n",
       "4  40068           ELEC          Vann Yorks High Point Nissan    High Point   \n",
       "\n",
       "  State    ZIP Status Code   Latitude  Longitude   Facility Type  \\\n",
       "0    NC  27601           E  35.778416 -78.643470  STREET_PARKING   \n",
       "1    NC  27601           E  35.774350 -78.642287  STREET_PARKING   \n",
       "2    NC  28027           E  35.392063 -80.622777      CAR_DEALER   \n",
       "3    NC  28304           E  35.042419 -78.956747      CAR_DEALER   \n",
       "4    NC  27260           E  35.937981 -79.996012      CAR_DEALER   \n",
       "\n",
       "                     geometry  \n",
       "0  POINT (-78.64347 35.77842)  \n",
       "1  POINT (-78.64229 35.77435)  \n",
       "2  POINT (-80.62278 35.39206)  \n",
       "3  POINT (-78.95675 35.04242)  \n",
       "4  POINT (-79.99601 35.93798)  "
      ]
     },
     "execution_count": 10,
     "metadata": {},
     "output_type": "execute_result"
    }
   ],
   "source": [
    "#Show the first few records of the geodataframe\n",
    "gdf_csv.head(5)"
   ]
  },
  {
   "cell_type": "code",
   "execution_count": 11,
   "id": "431cafcf",
   "metadata": {},
   "outputs": [
    {
     "name": "stdout",
     "output_type": "stream",
     "text": [
      "<class 'geopandas.geodataframe.GeoDataFrame'>\n",
      "RangeIndex: 1227 entries, 0 to 1226\n",
      "Data columns (total 11 columns):\n",
      " #   Column          Non-Null Count  Dtype   \n",
      "---  ------          --------------  -----   \n",
      " 0   ID              1227 non-null   int64   \n",
      " 1   Fuel Type Code  1227 non-null   object  \n",
      " 2   Station Name    1227 non-null   object  \n",
      " 3   City            1227 non-null   object  \n",
      " 4   State           1227 non-null   object  \n",
      " 5   ZIP             1227 non-null   object  \n",
      " 6   Status Code     1227 non-null   object  \n",
      " 7   Latitude        1227 non-null   float64 \n",
      " 8   Longitude       1227 non-null   float64 \n",
      " 9   Facility Type   450 non-null    object  \n",
      " 10  geometry        1227 non-null   geometry\n",
      "dtypes: float64(2), geometry(1), int64(1), object(7)\n",
      "memory usage: 105.6+ KB\n"
     ]
    }
   ],
   "source": [
    "#Show the structure of the dataframe\n",
    "gdf_csv.info()"
   ]
  },
  {
   "cell_type": "code",
   "execution_count": 31,
   "id": "059bb4b7",
   "metadata": {},
   "outputs": [],
   "source": [
    "#Show the geodataframe's coordinate reference system\n",
    "gdf_csv.crs"
   ]
  },
  {
   "cell_type": "code",
   "execution_count": 29,
   "id": "1cba91aa",
   "metadata": {},
   "outputs": [
    {
     "data": {
      "text/plain": [
       "'EPSG:4326'"
      ]
     },
     "execution_count": 29,
     "metadata": {},
     "output_type": "execute_result"
    }
   ],
   "source": [
    "#Show just the EPSG code of the crs\n",
    "gdf_csv.crs.srs"
   ]
  },
  {
   "cell_type": "code",
   "execution_count": 32,
   "id": "2e567f6a",
   "metadata": {},
   "outputs": [],
   "source": [
    "#Project to UTM Zone 17N \n",
    "gdf_utm = gdf_csv.to_crs(32617)"
   ]
  },
  {
   "cell_type": "code",
   "execution_count": 33,
   "id": "5acd02b9",
   "metadata": {},
   "outputs": [
    {
     "data": {
      "text/plain": [
       "<AxesSubplot: >"
      ]
     },
     "execution_count": 33,
     "metadata": {},
     "output_type": "execute_result"
    },
    {
     "data": {
      "image/png": "[encoded data removed]",
      "text/plain": [
       "<Figure size 640x480 with 1 Axes>"
      ]
     },
     "metadata": {},
     "output_type": "display_data"
    }
   ],
   "source": [
    "#Plot the data\n",
    "gdf_csv.plot()"
   ]
  },
  {
   "cell_type": "markdown",
   "id": "69bd72c0",
   "metadata": {},
   "source": [
    "And that's it! Pretty straight forward. Soon we will explore the various analyses and visualizations we can do with these spatial dataframes, but first, we'll examine a few other types of data we can import into our coding environment as geodataframes"
   ]
  },
  {
   "cell_type": "markdown",
   "id": "77c0563d",
   "metadata": {
    "heading_collapsed": true
   },
   "source": [
    "### 1.2: Creating spatial dataframes from existing feature classes\n",
    "Here we look at the process of getting existing feature classes, e.g. Shapefiles, into spatial dataframes. We'll again look at methods using GeoPandas and then compare that with similar methods using the ArcGIS API for Python. \n",
    "\n",
    "The dataset we'll use represents major river basins of North Carolina (source: https://data-ncdenr.opendata.arcgis.com/datasets/ncdenr::major-river-basins), a copy of which has been downloaded into the data folder as `Major_Basins.shp`. "
   ]
  },
  {
   "cell_type": "markdown",
   "id": "0a99fb6a",
   "metadata": {
    "hidden": true
   },
   "source": [
    "#### Step 1. Importing shapefiles using `read_file()`\n",
    "Importing feature classes using GeoPandas is easy with the `read_file()` command. \n",
    "\n",
    ">What's worth noting is that GeoPandas actually uses the Python **Fiona** package to read the shapefiles. Fiona leverages a collection of drivers that provide access to a number of geospatial data formats. Geopandas simplifies the usage of Fiona commands, making import and export of geodataframes easier to use."
   ]
  },
  {
   "cell_type": "code",
   "execution_count": 34,
   "id": "df421365",
   "metadata": {
    "hidden": true
   },
   "outputs": [],
   "source": [
    "#Explore the read_file() command\n",
    "gpd.read_file?"
   ]
  },
  {
   "cell_type": "code",
   "execution_count": 35,
   "id": "7c8a3399",
   "metadata": {
    "hidden": true
   },
   "outputs": [],
   "source": [
    "#Read the shapefile into a GeoPandas geodataframe\n",
    "gdf_shp = gpd.read_file('../data/Major_Basins.shp')"
   ]
  },
  {
   "cell_type": "markdown",
   "id": "6c51f44f",
   "metadata": {
    "hidden": true
   },
   "source": [
    "**Pro tip** -- a shapefile zipped into a single file can also be read in!"
   ]
  },
  {
   "cell_type": "code",
   "execution_count": 36,
   "id": "794ebba2",
   "metadata": {
    "hidden": true
   },
   "outputs": [],
   "source": [
    "#Read a *zipped* shapefile into a GeoPandas geodataframe\n",
    "gdf_shp = gpd.read_file('../data/Major_River_Basins.zip')"
   ]
  },
  {
   "cell_type": "code",
   "execution_count": 37,
   "id": "6a116817",
   "metadata": {
    "hidden": true
   },
   "outputs": [
    {
     "data": {
      "text/html": [
       "<div>\n",
       "<style scoped>\n",
       "    .dataframe tbody tr th:only-of-type {\n",
       "        vertical-align: middle;\n",
       "    }\n",
       "\n",
       "    .dataframe tbody tr th {\n",
       "        vertical-align: top;\n",
       "    }\n",
       "\n",
       "    .dataframe thead th {\n",
       "        text-align: right;\n",
       "    }\n",
       "</style>\n",
       "<table border=\"1\" class=\"dataframe\">\n",
       "  <thead>\n",
       "    <tr style=\"text-align: right;\">\n",
       "      <th></th>\n",
       "      <th>FID</th>\n",
       "      <th>Basin</th>\n",
       "      <th>Sq_Miles</th>\n",
       "      <th>Acres</th>\n",
       "      <th>Name</th>\n",
       "      <th>PlanLink</th>\n",
       "      <th>SHAPE_Leng</th>\n",
       "      <th>SHAPE_Area</th>\n",
       "      <th>geometry</th>\n",
       "    </tr>\n",
       "  </thead>\n",
       "  <tbody>\n",
       "    <tr>\n",
       "      <th>0</th>\n",
       "      <td>1</td>\n",
       "      <td>BRD</td>\n",
       "      <td>1513.894812</td>\n",
       "      <td>9.688927e+05</td>\n",
       "      <td>Broad</td>\n",
       "      <td>https://deq.nc.gov/about/divisions/water-resou...</td>\n",
       "      <td>5.581258e+05</td>\n",
       "      <td>-5.910819e+09</td>\n",
       "      <td>MULTIPOLYGON (((-9213866.272 4173023.751, -921...</td>\n",
       "    </tr>\n",
       "    <tr>\n",
       "      <th>1</th>\n",
       "      <td>2</td>\n",
       "      <td>CAT</td>\n",
       "      <td>3285.405145</td>\n",
       "      <td>2.102659e+06</td>\n",
       "      <td>Catawba</td>\n",
       "      <td>https://deq.nc.gov/about/divisions/water-resou...</td>\n",
       "      <td>8.567400e+05</td>\n",
       "      <td>-1.289794e+10</td>\n",
       "      <td>POLYGON ((-9094141.192 4320798.406, -9094170.3...</td>\n",
       "    </tr>\n",
       "    <tr>\n",
       "      <th>2</th>\n",
       "      <td>3</td>\n",
       "      <td>CHO</td>\n",
       "      <td>1298.283191</td>\n",
       "      <td>8.309012e+05</td>\n",
       "      <td>Chowan</td>\n",
       "      <td>https://deq.nc.gov/about/divisions/water-resou...</td>\n",
       "      <td>4.665715e+05</td>\n",
       "      <td>-5.193827e+09</td>\n",
       "      <td>POLYGON ((-8531329.201 4376184.236, -8531319.6...</td>\n",
       "    </tr>\n",
       "    <tr>\n",
       "      <th>3</th>\n",
       "      <td>4</td>\n",
       "      <td>CPF</td>\n",
       "      <td>9163.594976</td>\n",
       "      <td>5.864701e+06</td>\n",
       "      <td>Cape Fear</td>\n",
       "      <td>https://deq.nc.gov/about/divisions/water-resou...</td>\n",
       "      <td>1.392877e+06</td>\n",
       "      <td>-3.564402e+10</td>\n",
       "      <td>POLYGON ((-8873544.781 4349237.936, -8873507.1...</td>\n",
       "    </tr>\n",
       "    <tr>\n",
       "      <th>4</th>\n",
       "      <td>5</td>\n",
       "      <td>FBR</td>\n",
       "      <td>2828.806116</td>\n",
       "      <td>1.810436e+06</td>\n",
       "      <td>French Broad</td>\n",
       "      <td>https://deq.nc.gov/about/divisions/water-resou...</td>\n",
       "      <td>7.216967e+05</td>\n",
       "      <td>-1.112308e+10</td>\n",
       "      <td>POLYGON ((-9151379.603 4322288.985, -9151361.4...</td>\n",
       "    </tr>\n",
       "  </tbody>\n",
       "</table>\n",
       "</div>"
      ],
      "text/plain": [
       "   FID Basin     Sq_Miles         Acres          Name  \\\n",
       "0    1   BRD  1513.894812  9.688927e+05         Broad   \n",
       "1    2   CAT  3285.405145  2.102659e+06       Catawba   \n",
       "2    3   CHO  1298.283191  8.309012e+05        Chowan   \n",
       "3    4   CPF  9163.594976  5.864701e+06     Cape Fear   \n",
       "4    5   FBR  2828.806116  1.810436e+06  French Broad   \n",
       "\n",
       "                                            PlanLink    SHAPE_Leng  \\\n",
       "0  https://deq.nc.gov/about/divisions/water-resou...  5.581258e+05   \n",
       "1  https://deq.nc.gov/about/divisions/water-resou...  8.567400e+05   \n",
       "2  https://deq.nc.gov/about/divisions/water-resou...  4.665715e+05   \n",
       "3  https://deq.nc.gov/about/divisions/water-resou...  1.392877e+06   \n",
       "4  https://deq.nc.gov/about/divisions/water-resou...  7.216967e+05   \n",
       "\n",
       "     SHAPE_Area                                           geometry  \n",
       "0 -5.910819e+09  MULTIPOLYGON (((-9213866.272 4173023.751, -921...  \n",
       "1 -1.289794e+10  POLYGON ((-9094141.192 4320798.406, -9094170.3...  \n",
       "2 -5.193827e+09  POLYGON ((-8531329.201 4376184.236, -8531319.6...  \n",
       "3 -3.564402e+10  POLYGON ((-8873544.781 4349237.936, -8873507.1...  \n",
       "4 -1.112308e+10  POLYGON ((-9151379.603 4322288.985, -9151361.4...  "
      ]
     },
     "execution_count": 37,
     "metadata": {},
     "output_type": "execute_result"
    }
   ],
   "source": [
    "#Examine the data\n",
    "gdf_shp.head()"
   ]
  },
  {
   "cell_type": "code",
   "execution_count": 38,
   "id": "f68c57ca",
   "metadata": {
    "hidden": true
   },
   "outputs": [
    {
     "data": {
      "text/plain": [
       "'EPSG:3857'"
      ]
     },
     "execution_count": 38,
     "metadata": {},
     "output_type": "execute_result"
    }
   ],
   "source": [
    "#What is the crs of the data\n",
    "gdf_shp.crs.to_string()"
   ]
  },
  {
   "cell_type": "code",
   "execution_count": 39,
   "id": "920e4ed9",
   "metadata": {
    "hidden": true
   },
   "outputs": [
    {
     "data": {
      "image/png": "[encoded data removed]",
      "text/plain": [
       "<Figure size 1200x700 with 1 Axes>"
      ]
     },
     "metadata": {},
     "output_type": "display_data"
    }
   ],
   "source": [
    "#Plot the data...\n",
    "gdf_shp.plot(column='Basin', categorical=True, figsize=(12,7), cmap='Pastel2');"
   ]
  },
  {
   "cell_type": "markdown",
   "id": "cdf99784",
   "metadata": {},
   "source": [
    "### 1.3 - Creating spatial dataframes from other file formats\n",
    "\n",
    "Now we look at some formats that may be less familiar to you but are becoming more and more common."
   ]
  },
  {
   "cell_type": "markdown",
   "id": "ad15f9ec",
   "metadata": {},
   "source": [
    "#### 1.3.1 - Reading GeoJSON files\n",
    "We have a GeoJSON format of the major river basins in NC saved in our data folder: `../data/12-Major_River_Basins.geojson` ([source](https://data-ncdenr.opendata.arcgis.com/datasets/ncdenr::major-river-basins/)). Let's see how we go about importing that file. \n",
    "\n",
    ">##### What is GeoJSON?\n",
    ">GeoJSON is a text based format that stores spatial features in a long, but universally readable format (i.e. text!). \"JSON\" stands for JavaScript Object Notation, and if you look at raw JSON files from a Python perspective, it looks like a set of nested dictionary and list objects. We need not get too deep into that, but understand that being text based, JSON and its spatial counterpart GeoJSON, are used widely in web-based services and can be quite useful in certain circumstances.\n",
    "\n",
    "As it happens, that Fiona package we read about, the one GeoPandas uses, can read this format as well. We simply have to indicate what **driver** the `read_file()` function should use to conver the file into a geodataframe."
   ]
  },
  {
   "cell_type": "code",
   "execution_count": 52,
   "id": "5e85ea30",
   "metadata": {},
   "outputs": [],
   "source": [
    "#read in the file \n",
    "gdf_geojson = gpd.read_file('../data/Major_River_Basins.geojson', driver = 'GeoJSON')"
   ]
  },
  {
   "cell_type": "code",
   "execution_count": 53,
   "id": "fc8101c2",
   "metadata": {},
   "outputs": [
    {
     "data": {
      "text/plain": [
       "<AxesSubplot: >"
      ]
     },
     "execution_count": 53,
     "metadata": {},
     "output_type": "execute_result"
    },
    {
     "data": {
      "image/png": "[encoded data removed]",
      "text/plain": [
       "<Figure size 640x480 with 1 Axes>"
      ]
     },
     "metadata": {},
     "output_type": "display_data"
    }
   ],
   "source": [
    "#plot the data\n",
    "gdf_geojson.plot()"
   ]
  },
  {
   "cell_type": "markdown",
   "id": "81293c9b",
   "metadata": {},
   "source": [
    "#### 1.3.2 - Reading KML files\n",
    "We have a GeoJSON format of the major river basins in NC saved in our data folder: `../data/12-Major_River_Basins.geojson` ([source](https://data-ncdenr.opendata.arcgis.com/datasets/ncdenr::major-river-basins/)). Let's see how we go about importing that file. \n",
    "\n",
    ">##### ► What is KML?\n",
    ">KML, short for \"Keyhole Markup Language\", is yet another text based format developed to store geospatial features. This format was originally desgined to work with the Google Earth application (which was originally developed by a company called Keyhole), but others have adopted this format as well because of its simplicity. \n",
    "\n",
    "And yes, Fiona has a driver to work with KML files, but for some reason this driver is not enabled by default. Let's look at all the drivers Fiona can work with by default and how to enable this one. "
   ]
  },
  {
   "cell_type": "code",
   "execution_count": 47,
   "id": "aea3779c",
   "metadata": {},
   "outputs": [],
   "source": [
    "#Import Fiona\n",
    "import fiona"
   ]
  },
  {
   "cell_type": "code",
   "execution_count": 51,
   "id": "1e8d9942",
   "metadata": {},
   "outputs": [
    {
     "data": {
      "text/plain": [
       "{'DXF': 'rw',\n",
       " 'CSV': 'raw',\n",
       " 'OpenFileGDB': 'r',\n",
       " 'ESRIJSON': 'r',\n",
       " 'ESRI Shapefile': 'raw',\n",
       " 'FlatGeobuf': 'rw',\n",
       " 'GeoJSON': 'raw',\n",
       " 'GeoJSONSeq': 'rw',\n",
       " 'GPKG': 'raw',\n",
       " 'GML': 'rw',\n",
       " 'OGR_GMT': 'rw',\n",
       " 'GPX': 'rw',\n",
       " 'Idrisi': 'r',\n",
       " 'MapInfo File': 'raw',\n",
       " 'DGN': 'raw',\n",
       " 'PCIDSK': 'raw',\n",
       " 'OGR_PDS': 'r',\n",
       " 'S57': 'r',\n",
       " 'SQLite': 'raw',\n",
       " 'TopoJSON': 'r',\n",
       " 'KML': 'rw'}"
      ]
     },
     "execution_count": 51,
     "metadata": {},
     "output_type": "execute_result"
    }
   ],
   "source": [
    "#Display fiona's active drivers\n",
    "fiona.supported_drivers"
   ]
  },
  {
   "cell_type": "markdown",
   "id": "516ba32c",
   "metadata": {},
   "source": [
    "The result is a dictionary where the keys are the driver and the values are what we can do with them: \n",
    "* `r` indicates we can read those formats but not write to them\n",
    "* `rw` indicates we can both read from and write to those formats\n",
    "* `raw` indicates we can read, write, and append data to existing files in that format\n",
    "\n",
    "You'll also notice KML does not appear on that list, but we can add it with the code below (where we add it directly to the list the geopandas can see...) What is the complete list of drivers? For some odd reason, that's not easily found, but you can decifer a bit from this page: https://github.com/Toblerity/Fiona/blob/master/fiona/drvsupport.py. (Thanks to this [StackExchange page](https://gis.stackexchange.com/questions/191365/drivers-of-fiona) for revealing this.)"
   ]
  },
  {
   "cell_type": "code",
   "execution_count": 49,
   "id": "6e6aa86c",
   "metadata": {},
   "outputs": [],
   "source": [
    "#Enable the KML driver in geopandas as a read-write format\n",
    "gpd.io.file.fiona.drvsupport.supported_drivers['KML'] = 'rw'"
   ]
  },
  {
   "cell_type": "code",
   "execution_count": 54,
   "id": "bace8b4a",
   "metadata": {},
   "outputs": [
    {
     "data": {
      "text/plain": [
       "<AxesSubplot: >"
      ]
     },
     "execution_count": 54,
     "metadata": {},
     "output_type": "execute_result"
    },
    {
     "data": {
      "image/png": "[encoded data removed]",
      "text/plain": [
       "<Figure size 640x480 with 1 Axes>"
      ]
     },
     "metadata": {},
     "output_type": "display_data"
    }
   ],
   "source": [
    "#Read the KML file and plot it\n",
    "gdf_kml = gpd.read_file('../data/Major_River_Basins.kml', driver = 'KML')\n",
    "gdf_kml.plot()"
   ]
  },
  {
   "cell_type": "markdown",
   "id": "31e3f120",
   "metadata": {},
   "source": [
    "#### 1.3.3 Reading ESRI Geodatabase files\n",
    "The ESRI Geodatabase is a tricky format that sits somewhere in the gray area between proprietary and opensource. ESRI does publish enough of how these Geodatabases are structured, programmatically, but that structure evolves quickly -- sometimes faster than coders can update Fiona drivers. \n",
    "\n",
    "For example: <https://github.com/Toblerity/Fiona/issues/428>\n",
    "\n",
    "In any event, those drivers are usually labeled as `OpenFileGDB` and you'd be best off doing a websearch for the latest sequence of commands required to read geodatabase feature classes into a spatial dataframe."
   ]
  }
 ],
 "metadata": {
  "kernelspec": {
   "display_name": "Python 3 (ipykernel)",
   "language": "python",
   "name": "python3"
  },
  "language_info": {
   "codemirror_mode": {
    "name": "ipython",
    "version": 3
   },
   "file_extension": ".py",
   "mimetype": "text/x-python",
   "name": "python",
   "nbconvert_exporter": "python",
   "pygments_lexer": "ipython3",
   "version": "3.11.0"
  }
 },
 "nbformat": 4,
 "nbformat_minor": 5
}
